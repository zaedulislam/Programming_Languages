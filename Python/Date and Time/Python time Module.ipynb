{
 "cells": [
  {
   "cell_type": "markdown",
   "metadata": {},
   "source": [
    "# Python time Module"
   ]
  },
  {
   "cell_type": "code",
   "execution_count": 2,
   "metadata": {},
   "outputs": [],
   "source": [
    "import time"
   ]
  },
  {
   "cell_type": "markdown",
   "metadata": {},
   "source": [
    "## Python time.time()\n",
    "- The `time()` function returns the number of seconds passed since epoch."
   ]
  },
  {
   "cell_type": "code",
   "execution_count": 24,
   "metadata": {},
   "outputs": [
    {
     "name": "stdout",
     "output_type": "stream",
     "text": [
      "0.00 0.00 11.63\n"
     ]
    }
   ],
   "source": [
    "training_start_time = time.time()\n",
    "\n",
    "for i in range(400000000):\n",
    "    i\n",
    "    \n",
    "training_end_time = time.time()\n",
    "total_training_time_in_seconds = training_end_time - training_start_time\n",
    "\n",
    "hours = \"{:.2f}\".format(total_training_time_in_seconds // 3600)\n",
    "seconds = total_training_time_in_seconds % 3600\n",
    "\n",
    "minutes = \"{:.2f}\".format(seconds // 60)\n",
    "seconds = \"{:.2f}\".format(seconds % 60)\n",
    "\n",
    "\n",
    "print(hours, minutes, seconds)"
   ]
  }
 ],
 "metadata": {
  "kernelspec": {
   "display_name": "Python 3.8.2 ('gnn')",
   "language": "python",
   "name": "python3"
  },
  "language_info": {
   "codemirror_mode": {
    "name": "ipython",
    "version": 3
   },
   "file_extension": ".py",
   "mimetype": "text/x-python",
   "name": "python",
   "nbconvert_exporter": "python",
   "pygments_lexer": "ipython3",
   "version": "3.8.2"
  },
  "orig_nbformat": 4,
  "vscode": {
   "interpreter": {
    "hash": "179537a2ef8ea6e8b8b88b69ab6d15a68fd2f9dd4f00233cafabf0c9117c382f"
   }
  }
 },
 "nbformat": 4,
 "nbformat_minor": 2
}
