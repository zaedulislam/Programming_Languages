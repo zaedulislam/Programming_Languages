{
 "cells": [
  {
   "attachments": {},
   "cell_type": "markdown",
   "metadata": {},
   "source": [
    "## Array Manipulation Routines"
   ]
  },
  {
   "cell_type": "code",
   "execution_count": 26,
   "metadata": {},
   "outputs": [],
   "source": [
    "import numpy as np"
   ]
  },
  {
   "attachments": {},
   "cell_type": "markdown",
   "metadata": {},
   "source": [
    "### numpy.stack\n",
    "Join a sequence of arrays along a new axis.\n",
    "\n",
    "The axis parameter specifies the index of the new axis in the dimensions of the result. For example, if axis=0 it will be the first dimension and if axis=-1 it will be the last dimension."
   ]
  },
  {
   "cell_type": "code",
   "execution_count": 50,
   "metadata": {},
   "outputs": [
    {
     "name": "stdout",
     "output_type": "stream",
     "text": [
      "<class 'list'>\n",
      "[[[6 4 2]\n",
      "  [8 4 8]]\n",
      "\n",
      " [[7 8 3]\n",
      "  [5 6 1]]]\n",
      "(2, 2, 3)\n",
      "<class 'numpy.ndarray'>\n"
     ]
    }
   ],
   "source": [
    "A = []\n",
    "a1 = np.random.randint(low=1, high=9, size=(2, 3))\n",
    "a2 = np.random.randint(low=1, high=9, size=(2, 3))\n",
    "\n",
    "A.append(a1)\n",
    "A.append(a2)\n",
    "print(type(A))\n",
    "print(np.stack(A))\n",
    "print(np.stack(A).shape)\n",
    "print(type(np.stack(A)))"
   ]
  },
  {
   "cell_type": "code",
   "execution_count": 54,
   "metadata": {},
   "outputs": [
    {
     "name": "stdout",
     "output_type": "stream",
     "text": [
      "[array([[6, 5, 7],\n",
      "       [7, 8, 3]]), array([[6, 8, 5],\n",
      "       [1, 8, 4]]), array([[7, 6, 3],\n",
      "       [4, 6, 8]])]\n"
     ]
    },
    {
     "data": {
      "text/plain": [
       "array([[[6, 5, 7],\n",
       "        [7, 8, 3]],\n",
       "\n",
       "       [[6, 8, 5],\n",
       "        [1, 8, 4]],\n",
       "\n",
       "       [[7, 6, 3],\n",
       "        [4, 6, 8]]])"
      ]
     },
     "execution_count": 54,
     "metadata": {},
     "output_type": "execute_result"
    }
   ],
   "source": [
    "arrays = [np.random.randint(low=1, high=9, size=(2, 3)) for _ in range(3)]\n",
    "print(arrays)\n",
    "np.stack(arrays)"
   ]
  },
  {
   "cell_type": "code",
   "execution_count": 34,
   "metadata": {},
   "outputs": [
    {
     "name": "stdout",
     "output_type": "stream",
     "text": [
      "[[[ 1.02415395  1.06195447 -0.67279345]\n",
      "  [ 0.11905508 -0.71272673 -1.73564088]]\n",
      "\n",
      " [[ 0.72025567 -1.53912195 -0.00404676]\n",
      "  [ 0.74579066 -1.27777705 -0.92571078]]\n",
      "\n",
      " [[-0.81351448  1.56290273  0.38613568]\n",
      "  [-0.12421028  0.46788452 -0.59213913]]]\n"
     ]
    }
   ],
   "source": [
    "A = np.stack(arrays)\n",
    "print(A)"
   ]
  },
  {
   "cell_type": "code",
   "execution_count": 70,
   "metadata": {},
   "outputs": [
    {
     "name": "stdout",
     "output_type": "stream",
     "text": [
      "(2, 3)\n"
     ]
    }
   ],
   "source": [
    "a = np.array([1, 2, 3])\n",
    "b = np.array([4, 5, 6])\n",
    "np.stack((a, b))\n",
    "print(np.stack((a, b)).shape)"
   ]
  },
  {
   "cell_type": "code",
   "execution_count": 61,
   "metadata": {},
   "outputs": [
    {
     "name": "stdout",
     "output_type": "stream",
     "text": [
      "[[1 2 3]\n",
      " [4 5 6]]\n",
      "<class 'numpy.ndarray'>\n"
     ]
    },
    {
     "data": {
      "text/plain": [
       "(2, 3)"
      ]
     },
     "execution_count": 61,
     "metadata": {},
     "output_type": "execute_result"
    }
   ],
   "source": [
    "print(np.stack((a, b), axis=0))\n",
    "print(type(np.stack((a, b), axis=0)))\n",
    "np.stack((a, b), axis=0).shape"
   ]
  },
  {
   "cell_type": "code",
   "execution_count": 62,
   "metadata": {},
   "outputs": [
    {
     "name": "stdout",
     "output_type": "stream",
     "text": [
      "[[1 4]\n",
      " [2 5]\n",
      " [3 6]]\n",
      "<class 'numpy.ndarray'>\n"
     ]
    },
    {
     "data": {
      "text/plain": [
       "(3, 2)"
      ]
     },
     "execution_count": 62,
     "metadata": {},
     "output_type": "execute_result"
    }
   ],
   "source": [
    "print(np.stack((a, b), axis=1))\n",
    "print(type(np.stack((a, b), axis=1)))\n",
    "np.stack((a, b), axis=1).shape"
   ]
  },
  {
   "cell_type": "code",
   "execution_count": 63,
   "metadata": {},
   "outputs": [
    {
     "ename": "AxisError",
     "evalue": "axis 2 is out of bounds for array of dimension 2",
     "output_type": "error",
     "traceback": [
      "\u001b[0;31m---------------------------------------------------------------------------\u001b[0m",
      "\u001b[0;31mAxisError\u001b[0m                                 Traceback (most recent call last)",
      "\u001b[1;32m/home/zayed/Research/Workstation/Programming Languages/Python/NumPy/Routines.ipynb Cell 10\u001b[0m in \u001b[0;36m<cell line: 1>\u001b[0;34m()\u001b[0m\n\u001b[0;32m----> <a href='vscode-notebook-cell:/home/zayed/Research/Workstation/Programming%20Languages/Python/NumPy/Routines.ipynb#X12sZmlsZQ%3D%3D?line=0'>1</a>\u001b[0m \u001b[39mprint\u001b[39m(np\u001b[39m.\u001b[39;49mstack((a, b), axis\u001b[39m=\u001b[39;49m\u001b[39m2\u001b[39;49m))\n\u001b[1;32m      <a href='vscode-notebook-cell:/home/zayed/Research/Workstation/Programming%20Languages/Python/NumPy/Routines.ipynb#X12sZmlsZQ%3D%3D?line=1'>2</a>\u001b[0m \u001b[39mprint\u001b[39m(\u001b[39mtype\u001b[39m(np\u001b[39m.\u001b[39mstack((a, b), axis\u001b[39m=\u001b[39m\u001b[39m2\u001b[39m)))\n\u001b[1;32m      <a href='vscode-notebook-cell:/home/zayed/Research/Workstation/Programming%20Languages/Python/NumPy/Routines.ipynb#X12sZmlsZQ%3D%3D?line=2'>3</a>\u001b[0m np\u001b[39m.\u001b[39mstack((a, b), axis\u001b[39m=\u001b[39m\u001b[39m2\u001b[39m)\u001b[39m.\u001b[39mshape\n",
      "File \u001b[0;32m<__array_function__ internals>:5\u001b[0m, in \u001b[0;36mstack\u001b[0;34m(*args, **kwargs)\u001b[0m\n",
      "File \u001b[0;32m~/.local/lib/python3.8/site-packages/numpy/core/shape_base.py:430\u001b[0m, in \u001b[0;36mstack\u001b[0;34m(arrays, axis, out)\u001b[0m\n\u001b[1;32m    427\u001b[0m     \u001b[39mraise\u001b[39;00m \u001b[39mValueError\u001b[39;00m(\u001b[39m'\u001b[39m\u001b[39mall input arrays must have the same shape\u001b[39m\u001b[39m'\u001b[39m)\n\u001b[1;32m    429\u001b[0m result_ndim \u001b[39m=\u001b[39m arrays[\u001b[39m0\u001b[39m]\u001b[39m.\u001b[39mndim \u001b[39m+\u001b[39m \u001b[39m1\u001b[39m\n\u001b[0;32m--> 430\u001b[0m axis \u001b[39m=\u001b[39m normalize_axis_index(axis, result_ndim)\n\u001b[1;32m    432\u001b[0m sl \u001b[39m=\u001b[39m (\u001b[39mslice\u001b[39m(\u001b[39mNone\u001b[39;00m),) \u001b[39m*\u001b[39m axis \u001b[39m+\u001b[39m (_nx\u001b[39m.\u001b[39mnewaxis,)\n\u001b[1;32m    433\u001b[0m expanded_arrays \u001b[39m=\u001b[39m [arr[sl] \u001b[39mfor\u001b[39;00m arr \u001b[39min\u001b[39;00m arrays]\n",
      "\u001b[0;31mAxisError\u001b[0m: axis 2 is out of bounds for array of dimension 2"
     ]
    }
   ],
   "source": [
    "print(np.stack((a, b), axis=2))\n",
    "print(type(np.stack((a, b), axis=2)))\n",
    "np.stack((a, b), axis=2).shape"
   ]
  },
  {
   "cell_type": "code",
   "execution_count": 81,
   "metadata": {},
   "outputs": [
    {
     "name": "stdout",
     "output_type": "stream",
     "text": [
      "[array([[ 0.07159973, -0.48856014,  1.62336408],\n",
      "       [-0.41684332,  0.68148062, -0.25701735]]), array([[ 0.71317265,  1.66406368,  1.32941461],\n",
      "       [-0.4021398 , -0.46050001,  1.15684989]]), array([[-0.8173173 , -0.99509961,  0.22247641],\n",
      "       [ 0.50398027, -0.47412464,  0.18012429]]), array([[1.54607815, 0.55664008, 1.25390788],\n",
      "       [1.21853407, 0.28192985, 1.36843743]])]\n"
     ]
    }
   ],
   "source": [
    "arrays = [np.random.randn(2, 3) for _ in range(4)]\n",
    "print(arrays)"
   ]
  },
  {
   "cell_type": "code",
   "execution_count": 82,
   "metadata": {},
   "outputs": [
    {
     "name": "stdout",
     "output_type": "stream",
     "text": [
      "(4, 2, 3)\n",
      "[[[ 0.07159973 -0.48856014  1.62336408]\n",
      "  [-0.41684332  0.68148062 -0.25701735]]\n",
      "\n",
      " [[ 0.71317265  1.66406368  1.32941461]\n",
      "  [-0.4021398  -0.46050001  1.15684989]]\n",
      "\n",
      " [[-0.8173173  -0.99509961  0.22247641]\n",
      "  [ 0.50398027 -0.47412464  0.18012429]]\n",
      "\n",
      " [[ 1.54607815  0.55664008  1.25390788]\n",
      "  [ 1.21853407  0.28192985  1.36843743]]]\n"
     ]
    }
   ],
   "source": [
    "print(np.stack(arrays, axis=0).shape)\n",
    "print(np.stack(arrays, axis=0))"
   ]
  },
  {
   "cell_type": "code",
   "execution_count": 83,
   "metadata": {},
   "outputs": [
    {
     "name": "stdout",
     "output_type": "stream",
     "text": [
      "(2, 4, 3)\n",
      "[[[ 0.07159973 -0.48856014  1.62336408]\n",
      "  [ 0.71317265  1.66406368  1.32941461]\n",
      "  [-0.8173173  -0.99509961  0.22247641]\n",
      "  [ 1.54607815  0.55664008  1.25390788]]\n",
      "\n",
      " [[-0.41684332  0.68148062 -0.25701735]\n",
      "  [-0.4021398  -0.46050001  1.15684989]\n",
      "  [ 0.50398027 -0.47412464  0.18012429]\n",
      "  [ 1.21853407  0.28192985  1.36843743]]]\n"
     ]
    }
   ],
   "source": [
    "print(np.stack(arrays, axis=1).shape)\n",
    "print(np.stack(arrays, axis=1))"
   ]
  },
  {
   "cell_type": "code",
   "execution_count": 80,
   "metadata": {},
   "outputs": [
    {
     "name": "stdout",
     "output_type": "stream",
     "text": [
      "(2, 3, 4)\n",
      "[[[-0.5672631  -0.37629083  0.18014264  0.56859955]\n",
      "  [-2.08531209 -0.26873099 -1.43504901 -0.80262724]\n",
      "  [ 0.83745819  0.01875236  0.90773745  0.43049006]]\n",
      "\n",
      " [[-0.31196546 -1.14015968 -1.95866458 -0.50823003]\n",
      "  [-0.18556525 -1.0770908  -0.48372291  1.34639839]\n",
      "  [ 0.6974311  -0.31975271  0.8736552   0.53624199]]]\n"
     ]
    }
   ],
   "source": [
    "print(np.stack(arrays, axis=2).shape)\n",
    "print(np.stack(arrays, axis=2))"
   ]
  },
  {
   "cell_type": "code",
   "execution_count": 68,
   "metadata": {},
   "outputs": [
    {
     "ename": "AxisError",
     "evalue": "axis 3 is out of bounds for array of dimension 3",
     "output_type": "error",
     "traceback": [
      "\u001b[0;31m---------------------------------------------------------------------------\u001b[0m",
      "\u001b[0;31mAxisError\u001b[0m                                 Traceback (most recent call last)",
      "\u001b[1;32m/home/zayed/Research/Workstation/Programming Languages/Python/NumPy/Routines.ipynb Cell 14\u001b[0m in \u001b[0;36m<cell line: 1>\u001b[0;34m()\u001b[0m\n\u001b[0;32m----> <a href='vscode-notebook-cell:/home/zayed/Research/Workstation/Programming%20Languages/Python/NumPy/Routines.ipynb#X16sZmlsZQ%3D%3D?line=0'>1</a>\u001b[0m np\u001b[39m.\u001b[39;49mstack(arrays, axis\u001b[39m=\u001b[39;49m\u001b[39m3\u001b[39;49m)\u001b[39m.\u001b[39mshape\n",
      "File \u001b[0;32m<__array_function__ internals>:5\u001b[0m, in \u001b[0;36mstack\u001b[0;34m(*args, **kwargs)\u001b[0m\n",
      "File \u001b[0;32m~/.local/lib/python3.8/site-packages/numpy/core/shape_base.py:430\u001b[0m, in \u001b[0;36mstack\u001b[0;34m(arrays, axis, out)\u001b[0m\n\u001b[1;32m    427\u001b[0m     \u001b[39mraise\u001b[39;00m \u001b[39mValueError\u001b[39;00m(\u001b[39m'\u001b[39m\u001b[39mall input arrays must have the same shape\u001b[39m\u001b[39m'\u001b[39m)\n\u001b[1;32m    429\u001b[0m result_ndim \u001b[39m=\u001b[39m arrays[\u001b[39m0\u001b[39m]\u001b[39m.\u001b[39mndim \u001b[39m+\u001b[39m \u001b[39m1\u001b[39m\n\u001b[0;32m--> 430\u001b[0m axis \u001b[39m=\u001b[39m normalize_axis_index(axis, result_ndim)\n\u001b[1;32m    432\u001b[0m sl \u001b[39m=\u001b[39m (\u001b[39mslice\u001b[39m(\u001b[39mNone\u001b[39;00m),) \u001b[39m*\u001b[39m axis \u001b[39m+\u001b[39m (_nx\u001b[39m.\u001b[39mnewaxis,)\n\u001b[1;32m    433\u001b[0m expanded_arrays \u001b[39m=\u001b[39m [arr[sl] \u001b[39mfor\u001b[39;00m arr \u001b[39min\u001b[39;00m arrays]\n",
      "\u001b[0;31mAxisError\u001b[0m: axis 3 is out of bounds for array of dimension 3"
     ]
    }
   ],
   "source": [
    "np.stack(arrays, axis=3).shape"
   ]
  }
 ],
 "metadata": {
  "kernelspec": {
   "display_name": "gnn",
   "language": "python",
   "name": "python3"
  },
  "language_info": {
   "codemirror_mode": {
    "name": "ipython",
    "version": 3
   },
   "file_extension": ".py",
   "mimetype": "text/x-python",
   "name": "python",
   "nbconvert_exporter": "python",
   "pygments_lexer": "ipython3",
   "version": "3.8.2"
  },
  "orig_nbformat": 4,
  "vscode": {
   "interpreter": {
    "hash": "179537a2ef8ea6e8b8b88b69ab6d15a68fd2f9dd4f00233cafabf0c9117c382f"
   }
  }
 },
 "nbformat": 4,
 "nbformat_minor": 2
}
