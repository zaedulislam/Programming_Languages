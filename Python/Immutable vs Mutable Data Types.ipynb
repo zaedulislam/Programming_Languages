{
  "nbformat": 4,
  "nbformat_minor": 0,
  "metadata": {
    "colab": {
      "name": "Immutable vs Mutable Data Types.ipynb",
      "provenance": [],
      "authorship_tag": "ABX9TyPCcv/787b/wiMQcLSPZZet",
      "include_colab_link": true
    },
    "kernelspec": {
      "name": "python3",
      "display_name": "Python 3"
    },
    "language_info": {
      "name": "python"
    }
  },
  "cells": [
    {
      "cell_type": "markdown",
      "metadata": {
        "id": "view-in-github",
        "colab_type": "text"
      },
      "source": [
        "<a href=\"https://colab.research.google.com/github/zaedulislam/Programming_Languages/blob/main/Python/Immutable%20vs%20Mutable%20Data%20Types.ipynb\" target=\"_parent\"><img src=\"https://colab.research.google.com/assets/colab-badge.svg\" alt=\"Open In Colab\"/></a>"
      ]
    },
    {
      "cell_type": "code",
      "execution_count": 2,
      "metadata": {
        "colab": {
          "base_uri": "https://localhost:8080/"
        },
        "id": "RA2wtjusSHil",
        "outputId": "b2d0eff9-0a8c-436a-b949-2307414d6485"
      },
      "outputs": [
        {
          "output_type": "stream",
          "name": "stdout",
          "text": [
            "Id:  94842218843936\n",
            "<class 'int'>\n"
          ]
        }
      ],
      "source": [
        "age = 42\n",
        "\n",
        "print(\"Id: \", id(age))\n",
        "print(type(age))\n"
      ]
    }
  ]
}