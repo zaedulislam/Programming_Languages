{
  "nbformat": 4,
  "nbformat_minor": 0,
  "metadata": {
    "colab": {
      "name": "Immutable vs Mutable Data Types.ipynb",
      "provenance": [],
      "authorship_tag": "ABX9TyPVDMFB5rO6o/j57tfYGc98",
      "include_colab_link": true
    },
    "kernelspec": {
      "name": "python3",
      "display_name": "Python 3"
    },
    "language_info": {
      "name": "python"
    }
  },
  "cells": [
    {
      "cell_type": "markdown",
      "metadata": {
        "id": "view-in-github",
        "colab_type": "text"
      },
      "source": [
        "<a href=\"https://colab.research.google.com/github/zaedulislam/Programming_Languages/blob/main/Python/Immutable%20vs%20Mutable%20Data%20Types.ipynb\" target=\"_parent\"><img src=\"https://colab.research.google.com/assets/colab-badge.svg\" alt=\"Open In Colab\"/></a>"
      ]
    },
    {
      "cell_type": "markdown",
      "source": [
        "* Python `id()` function returns the “identity” of the object. The identity of an object is an integer, which is guaranteed to be unique and constant for this object during its lifetime.\n",
        "\n",
        "* Two objects with non-overlapping lifetimes may have the same id() value."
      ],
      "metadata": {
        "id": "pZelN8FEURct"
      }
    },
    {
      "cell_type": "markdown",
      "source": [
        "# Immutable Data Types\n",
        "\n",
        "> **Objects of type `int` are immutable**\n",
        "\n"
      ],
      "metadata": {
        "id": "vHMfVaAZdACS"
      }
    },
    {
      "cell_type": "code",
      "execution_count": 5,
      "metadata": {
        "colab": {
          "base_uri": "https://localhost:8080/"
        },
        "id": "RA2wtjusSHil",
        "outputId": "cb077fad-52c5-4d6e-f1c8-b8fd38ae5194"
      },
      "outputs": [
        {
          "output_type": "stream",
          "name": "stdout",
          "text": [
            "id: 94842218843936\n",
            "type: <class 'int'>\n",
            "value: 42\n"
          ]
        }
      ],
      "source": [
        "age = 42\n",
        "\n",
        "print(\"id:\", id(age))\n",
        "print(\"type:\", type(age))\n",
        "print(\"value:\", age)"
      ]
    },
    {
      "cell_type": "code",
      "source": [
        "age = 47\n",
        "\n",
        "print(\"id:\", id(age))\n",
        "print(\"type:\", type(age))\n",
        "print(\"value:\", age)"
      ],
      "metadata": {
        "colab": {
          "base_uri": "https://localhost:8080/"
        },
        "id": "pcGGeU-4dIeS",
        "outputId": "fe038160-a135-4a8c-a88f-13e716a6f96b"
      },
      "execution_count": 6,
      "outputs": [
        {
          "output_type": "stream",
          "name": "stdout",
          "text": [
            "id: 94842218844096\n",
            "type: <class 'int'>\n",
            "value: 47\n"
          ]
        }
      ]
    },
    {
      "cell_type": "markdown",
      "source": [
        "When we type age = 43, what happens is that another object is created, of the type int and value 43 (also, the id will be different), and the name age is set to point to it. So, we didn’t change that 42 to 43. We actually just pointed age to a different location. The difference in `id` values justifies this."
      ],
      "metadata": {
        "id": "s6WH_LSIderW"
      }
    },
    {
      "cell_type": "markdown",
      "source": [
        "# Mutable Data Types\n",
        "> Some of Python’s mutable data types are: **lists**, **byte arrays**, **sets**, and **dictionaries**."
      ],
      "metadata": {
        "id": "ihJD7am5d-hN"
      }
    },
    {
      "cell_type": "code",
      "source": [
        "fruits = list(('apple', 'banana', 'clementine'))\n",
        "print(\"id (before):\", id(fruits))\n",
        "\n",
        "fruits.append('dates')\n",
        "print(\"id (after):\", id(fruits))"
      ],
      "metadata": {
        "colab": {
          "base_uri": "https://localhost:8080/"
        },
        "id": "WT6Yfy8_eLBz",
        "outputId": "9fa8a2ab-dcab-41c7-b571-38c9e6efb349"
      },
      "execution_count": 7,
      "outputs": [
        {
          "output_type": "stream",
          "name": "stdout",
          "text": [
            "id (before): 139894891894336\n",
            "id (after): 139894891894336\n"
          ]
        }
      ]
    }
  ]
}